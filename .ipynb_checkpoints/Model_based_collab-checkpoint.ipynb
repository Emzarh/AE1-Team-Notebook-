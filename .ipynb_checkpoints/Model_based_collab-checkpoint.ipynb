{
 "cells": [
  {
   "cell_type": "code",
   "execution_count": 1,
   "metadata": {
    "execution": {
     "iopub.execute_input": "2021-07-14T19:49:44.663320Z",
     "iopub.status.busy": "2021-07-14T19:49:44.662886Z",
     "iopub.status.idle": "2021-07-14T19:49:44.795281Z",
     "shell.execute_reply": "2021-07-14T19:49:44.794260Z",
     "shell.execute_reply.started": "2021-07-14T19:49:44.663284Z"
    }
   },
   "outputs": [
    {
     "name": "stderr",
     "output_type": "stream",
     "text": [
      "C:\\Users\\User\\Anaconda3\\lib\\site-packages\\numpy\\_distributor_init.py:32: UserWarning: loaded more than 1 DLL from .libs:\n",
      "C:\\Users\\User\\Anaconda3\\lib\\site-packages\\numpy\\.libs\\libopenblas.GK7GX5KEQ4F6UYO3P26ULGBQYHGQO7J4.gfortran-win_amd64.dll\n",
      "C:\\Users\\User\\Anaconda3\\lib\\site-packages\\numpy\\.libs\\libopenblas.WCDJNK7YVMPZQ2ME2ZZHJJRJ3JIKNDB7.gfortran-win_amd64.dll\n",
      "  stacklevel=1)\n"
     ]
    }
   ],
   "source": [
    "import numpy as np \n",
    "import pandas as pd\n",
    "\n",
    "# Packages for modeling\n",
    "from surprise import Reader\n",
    "from surprise import Dataset\n",
    "from surprise import KNNWithMeans\n",
    "from surprise import KNNBasic\n",
    "from surprise.model_selection import cross_validate\n",
    "from surprise.model_selection import GridSearchCV\n",
    "from surprise import SVD\n",
    "from surprise import SVDpp\n",
    "from surprise import NMF\n",
    "from surprise import SlopeOne\n",
    "from surprise import CoClustering\n",
    "import heapq\n"
   ]
  },
  {
   "cell_type": "code",
   "execution_count": 2,
   "metadata": {
    "execution": {
     "iopub.execute_input": "2021-07-14T19:49:44.797519Z",
     "iopub.status.busy": "2021-07-14T19:49:44.797091Z",
     "iopub.status.idle": "2021-07-14T19:50:10.034861Z",
     "shell.execute_reply": "2021-07-14T19:50:10.033682Z",
     "shell.execute_reply.started": "2021-07-14T19:49:44.797470Z"
    }
   },
   "outputs": [],
   "source": [
    "df_sample_submission = pd.read_csv('sample_submission.csv')\n",
    "df_movies = pd.read_csv('movies.csv')\n",
    "df_imdb = pd.read_csv('imdb_data.csv')\n",
    "df_genome_scores = pd.read_csv('genome_scores.csv')\n",
    "df_genome_tags = pd.read_csv('genome_tags.csv')\n",
    "df_train = pd.read_csv('train.csv')\n",
    "df_test = pd.read_csv('test.csv')\n",
    "df_tags = pd.read_csv('tags.csv')\n",
    "df_links = pd.read_csv('links.csv')"
   ]
  },
  {
   "cell_type": "markdown",
   "metadata": {},
   "source": [
    "Since our original training data contains over 10 million rows, we will only train models on a subset of this. We will then choose the best performing model to be trained on the entire dataset. We subset our data by taking only those movies that have been reviewed over 500 times and only the users who have watched over 500 movies."
   ]
  },
  {
   "cell_type": "code",
   "execution_count": 3,
   "metadata": {
    "execution": {
     "iopub.execute_input": "2021-07-14T19:50:10.037052Z",
     "iopub.status.busy": "2021-07-14T19:50:10.036713Z",
     "iopub.status.idle": "2021-07-14T19:50:11.415146Z",
     "shell.execute_reply": "2021-07-14T19:50:11.414165Z",
     "shell.execute_reply.started": "2021-07-14T19:50:10.037019Z"
    }
   },
   "outputs": [
    {
     "name": "stdout",
     "output_type": "stream",
     "text": [
      "The original data frame shape:\t(10000038, 4)\n",
      "The new data frame shape:\t(750263, 4)\n"
     ]
    }
   ],
   "source": [
    "min_movie_ratings = 500\n",
    "filter_movies = df_train['movieId'].value_counts() > min_movie_ratings\n",
    "filter_movies = filter_movies[filter_movies].index.tolist()\n",
    "\n",
    "min_user_ratings = 500\n",
    "filter_users = df_train['userId'].value_counts() > min_user_ratings\n",
    "filter_users = filter_users[filter_users].index.tolist()\n",
    "\n",
    "df_new = df_train[(df_train['movieId'].isin(filter_movies)) & (df_train['userId'].isin(filter_users))]\n",
    "print('The original data frame shape:\\t{}'.format(df_train.shape))\n",
    "print('The new data frame shape:\\t{}'.format(df_new.shape))"
   ]
  },
  {
   "cell_type": "code",
   "execution_count": 4,
   "metadata": {
    "execution": {
     "iopub.execute_input": "2021-07-14T19:50:11.417980Z",
     "iopub.status.busy": "2021-07-14T19:50:11.417497Z",
     "iopub.status.idle": "2021-07-14T19:50:11.427423Z",
     "shell.execute_reply": "2021-07-14T19:50:11.426188Z",
     "shell.execute_reply.started": "2021-07-14T19:50:11.417914Z"
    }
   },
   "outputs": [
    {
     "data": {
      "text/plain": [
       "750263"
      ]
     },
     "execution_count": 4,
     "metadata": {},
     "output_type": "execute_result"
    }
   ],
   "source": [
    "len(df_new)"
   ]
  },
  {
   "cell_type": "markdown",
   "metadata": {},
   "source": [
    "# Model-Based Collaborative Filtering"
   ]
  },
  {
   "cell_type": "markdown",
   "metadata": {},
   "source": [
    "In this section we will focus on building a collaborative filtering recomendation system that uses machine learnin models to predict the ratings a user would assign to a movie.\n",
    "\n",
    "The suprise package has been desinged for making recomendations using collaborative filtering and has a variety of built-in models."
   ]
  },
  {
   "cell_type": "markdown",
   "metadata": {},
   "source": [
    "### Data Prep"
   ]
  },
  {
   "cell_type": "code",
   "execution_count": 10,
   "metadata": {
    "execution": {
     "iopub.execute_input": "2021-07-14T19:50:11.470172Z",
     "iopub.status.busy": "2021-07-14T19:50:11.469773Z",
     "iopub.status.idle": "2021-07-14T19:50:11.606435Z",
     "shell.execute_reply": "2021-07-14T19:50:11.605271Z",
     "shell.execute_reply.started": "2021-07-14T19:50:11.470138Z"
    }
   },
   "outputs": [],
   "source": [
    "from surprise import Reader, Dataset\n",
    "reader = Reader(rating_scale=(0.5, 5.0))"
   ]
  },
  {
   "cell_type": "markdown",
   "metadata": {},
   "source": [
    "# Comparing base models"
   ]
  },
  {
   "cell_type": "code",
   "execution_count": 9,
   "metadata": {
    "execution": {
     "iopub.execute_input": "2021-07-14T19:50:11.609049Z",
     "iopub.status.busy": "2021-07-14T19:50:11.608549Z",
     "iopub.status.idle": "2021-07-14T19:50:11.613911Z",
     "shell.execute_reply": "2021-07-14T19:50:11.612893Z",
     "shell.execute_reply.started": "2021-07-14T19:50:11.608987Z"
    }
   },
   "outputs": [],
   "source": [
    "svd=SVD()"
   ]
  },
  {
   "cell_type": "code",
   "execution_count": 8,
   "metadata": {
    "execution": {
     "iopub.execute_input": "2021-07-14T19:50:11.618431Z",
     "iopub.status.busy": "2021-07-14T19:50:11.617984Z",
     "iopub.status.idle": "2021-07-14T19:50:11.628215Z",
     "shell.execute_reply": "2021-07-14T19:50:11.627072Z",
     "shell.execute_reply.started": "2021-07-14T19:50:11.618383Z"
    }
   },
   "outputs": [],
   "source": [
    "from surprise.model_selection import cross_validate"
   ]
  },
  {
   "cell_type": "code",
   "execution_count": 25,
   "metadata": {},
   "outputs": [],
   "source": [
    "def Compare_models(data,models,subset):\n",
    "    ratings = data[['userId','movieId','rating']][:subset]\n",
    "    data = Dataset.load_from_df(ratings[['userId', 'movieId', 'rating']], reader)\n",
    "    benchmark = []\n",
    "    # Iterate over all algorithms\n",
    "    for algorithm in models:\n",
    "        # Perform cross validation\n",
    "        results = cross_validate(algorithm, data, measures=['RMSE'], cv=3, verbose=False)\n",
    "\n",
    "        # Get results & append algorithm name\n",
    "        tmp = pd.DataFrame.from_dict(results).mean(axis=0)\n",
    "        tmp = tmp.append(pd.Series([str(algorithm).split(' ')[0].split('.')[-1]], index=['Algorithm']))\n",
    "        benchmark.append(tmp)   \n",
    "    return pd.DataFrame(benchmark).set_index('Algorithm').sort_values('test_rmse')"
   ]
  },
  {
   "cell_type": "code",
   "execution_count": 26,
   "metadata": {
    "execution": {
     "iopub.execute_input": "2021-07-14T19:50:11.630852Z",
     "iopub.status.busy": "2021-07-14T19:50:11.630483Z",
     "iopub.status.idle": "2021-07-14T19:50:28.304257Z",
     "shell.execute_reply": "2021-07-14T19:50:28.303283Z",
     "shell.execute_reply.started": "2021-07-14T19:50:11.630818Z"
    }
   },
   "outputs": [
    {
     "name": "stdout",
     "output_type": "stream",
     "text": [
      "Computing the msd similarity matrix...\n",
      "Done computing similarity matrix.\n",
      "Computing the msd similarity matrix...\n",
      "Done computing similarity matrix.\n",
      "Computing the msd similarity matrix...\n",
      "Done computing similarity matrix.\n",
      "Computing the msd similarity matrix...\n",
      "Done computing similarity matrix.\n",
      "Computing the msd similarity matrix...\n",
      "Done computing similarity matrix.\n",
      "Computing the msd similarity matrix...\n",
      "Done computing similarity matrix.\n"
     ]
    },
    {
     "data": {
      "text/html": [
       "<div>\n",
       "<style scoped>\n",
       "    .dataframe tbody tr th:only-of-type {\n",
       "        vertical-align: middle;\n",
       "    }\n",
       "\n",
       "    .dataframe tbody tr th {\n",
       "        vertical-align: top;\n",
       "    }\n",
       "\n",
       "    .dataframe thead th {\n",
       "        text-align: right;\n",
       "    }\n",
       "</style>\n",
       "<table border=\"1\" class=\"dataframe\">\n",
       "  <thead>\n",
       "    <tr style=\"text-align: right;\">\n",
       "      <th></th>\n",
       "      <th>test_rmse</th>\n",
       "      <th>fit_time</th>\n",
       "      <th>test_time</th>\n",
       "    </tr>\n",
       "    <tr>\n",
       "      <th>Algorithm</th>\n",
       "      <th></th>\n",
       "      <th></th>\n",
       "      <th></th>\n",
       "    </tr>\n",
       "  </thead>\n",
       "  <tbody>\n",
       "    <tr>\n",
       "      <th>SVDpp</th>\n",
       "      <td>0.965009</td>\n",
       "      <td>1.289254</td>\n",
       "      <td>0.065295</td>\n",
       "    </tr>\n",
       "    <tr>\n",
       "      <th>SVD</th>\n",
       "      <td>0.970174</td>\n",
       "      <td>0.454079</td>\n",
       "      <td>0.021987</td>\n",
       "    </tr>\n",
       "    <tr>\n",
       "      <th>KNNBasic</th>\n",
       "      <td>1.035287</td>\n",
       "      <td>0.087726</td>\n",
       "      <td>0.053046</td>\n",
       "    </tr>\n",
       "    <tr>\n",
       "      <th>SlopeOne</th>\n",
       "      <td>1.082335</td>\n",
       "      <td>0.198880</td>\n",
       "      <td>0.039639</td>\n",
       "    </tr>\n",
       "    <tr>\n",
       "      <th>KNNWithMeans</th>\n",
       "      <td>1.086155</td>\n",
       "      <td>0.106042</td>\n",
       "      <td>0.041647</td>\n",
       "    </tr>\n",
       "    <tr>\n",
       "      <th>NMF</th>\n",
       "      <td>1.170799</td>\n",
       "      <td>1.234707</td>\n",
       "      <td>0.034983</td>\n",
       "    </tr>\n",
       "    <tr>\n",
       "      <th>CoClustering</th>\n",
       "      <td>1.195125</td>\n",
       "      <td>0.927186</td>\n",
       "      <td>0.026110</td>\n",
       "    </tr>\n",
       "  </tbody>\n",
       "</table>\n",
       "</div>"
      ],
      "text/plain": [
       "              test_rmse  fit_time  test_time\n",
       "Algorithm                                   \n",
       "SVDpp          0.965009  1.289254   0.065295\n",
       "SVD            0.970174  0.454079   0.021987\n",
       "KNNBasic       1.035287  0.087726   0.053046\n",
       "SlopeOne       1.082335  0.198880   0.039639\n",
       "KNNWithMeans   1.086155  0.106042   0.041647\n",
       "NMF            1.170799  1.234707   0.034983\n",
       "CoClustering   1.195125  0.927186   0.026110"
      ]
     },
     "execution_count": 26,
     "metadata": {},
     "output_type": "execute_result"
    }
   ],
   "source": [
    "models=[SVD(), SVDpp(), SlopeOne(), NMF(), KNNBasic(), KNNWithMeans(), CoClustering()]\n",
    "compare_10K=Compare_models(df_new,models,10000)\n",
    "compare_10K"
   ]
  },
  {
   "cell_type": "code",
   "execution_count": 27,
   "metadata": {
    "execution": {
     "iopub.execute_input": "2021-07-14T19:50:28.305820Z",
     "iopub.status.busy": "2021-07-14T19:50:28.305516Z",
     "iopub.status.idle": "2021-07-14T19:51:01.688512Z",
     "shell.execute_reply": "2021-07-14T19:51:01.687276Z",
     "shell.execute_reply.started": "2021-07-14T19:50:28.305791Z"
    }
   },
   "outputs": [
    {
     "name": "stdout",
     "output_type": "stream",
     "text": [
      "Computing the msd similarity matrix...\n",
      "Done computing similarity matrix.\n",
      "Computing the msd similarity matrix...\n",
      "Done computing similarity matrix.\n",
      "Computing the msd similarity matrix...\n",
      "Done computing similarity matrix.\n",
      "Computing the msd similarity matrix...\n",
      "Done computing similarity matrix.\n",
      "Computing the msd similarity matrix...\n",
      "Done computing similarity matrix.\n",
      "Computing the msd similarity matrix...\n",
      "Done computing similarity matrix.\n"
     ]
    },
    {
     "data": {
      "text/html": [
       "<div>\n",
       "<style scoped>\n",
       "    .dataframe tbody tr th:only-of-type {\n",
       "        vertical-align: middle;\n",
       "    }\n",
       "\n",
       "    .dataframe tbody tr th {\n",
       "        vertical-align: top;\n",
       "    }\n",
       "\n",
       "    .dataframe thead th {\n",
       "        text-align: right;\n",
       "    }\n",
       "</style>\n",
       "<table border=\"1\" class=\"dataframe\">\n",
       "  <thead>\n",
       "    <tr style=\"text-align: right;\">\n",
       "      <th></th>\n",
       "      <th>test_rmse</th>\n",
       "      <th>fit_time</th>\n",
       "      <th>test_time</th>\n",
       "    </tr>\n",
       "    <tr>\n",
       "      <th>Algorithm</th>\n",
       "      <th></th>\n",
       "      <th></th>\n",
       "      <th></th>\n",
       "    </tr>\n",
       "  </thead>\n",
       "  <tbody>\n",
       "    <tr>\n",
       "      <th>SVDpp</th>\n",
       "      <td>0.927349</td>\n",
       "      <td>3.934849</td>\n",
       "      <td>0.183245</td>\n",
       "    </tr>\n",
       "    <tr>\n",
       "      <th>SVD</th>\n",
       "      <td>0.941286</td>\n",
       "      <td>1.085541</td>\n",
       "      <td>0.081285</td>\n",
       "    </tr>\n",
       "    <tr>\n",
       "      <th>KNNWithMeans</th>\n",
       "      <td>1.031659</td>\n",
       "      <td>0.094297</td>\n",
       "      <td>0.116429</td>\n",
       "    </tr>\n",
       "    <tr>\n",
       "      <th>KNNBasic</th>\n",
       "      <td>1.073730</td>\n",
       "      <td>0.073963</td>\n",
       "      <td>0.092945</td>\n",
       "    </tr>\n",
       "    <tr>\n",
       "      <th>SlopeOne</th>\n",
       "      <td>1.073845</td>\n",
       "      <td>0.292260</td>\n",
       "      <td>0.105594</td>\n",
       "    </tr>\n",
       "    <tr>\n",
       "      <th>NMF</th>\n",
       "      <td>1.078266</td>\n",
       "      <td>1.532294</td>\n",
       "      <td>0.043981</td>\n",
       "    </tr>\n",
       "    <tr>\n",
       "      <th>CoClustering</th>\n",
       "      <td>1.083353</td>\n",
       "      <td>0.947412</td>\n",
       "      <td>0.043973</td>\n",
       "    </tr>\n",
       "  </tbody>\n",
       "</table>\n",
       "</div>"
      ],
      "text/plain": [
       "              test_rmse  fit_time  test_time\n",
       "Algorithm                                   \n",
       "SVDpp          0.927349  3.934849   0.183245\n",
       "SVD            0.941286  1.085541   0.081285\n",
       "KNNWithMeans   1.031659  0.094297   0.116429\n",
       "KNNBasic       1.073730  0.073963   0.092945\n",
       "SlopeOne       1.073845  0.292260   0.105594\n",
       "NMF            1.078266  1.532294   0.043981\n",
       "CoClustering   1.083353  0.947412   0.043973"
      ]
     },
     "execution_count": 27,
     "metadata": {},
     "output_type": "execute_result"
    }
   ],
   "source": [
    "models=[SVD(), SVDpp(), SlopeOne(), NMF(), KNNBasic(), KNNWithMeans(), CoClustering()]\n",
    "compare_20K=Compare_models(df_new,models,20000)\n",
    "compare_20K"
   ]
  },
  {
   "cell_type": "code",
   "execution_count": 28,
   "metadata": {
    "execution": {
     "iopub.execute_input": "2021-07-14T19:51:01.690490Z",
     "iopub.status.busy": "2021-07-14T19:51:01.690069Z",
     "iopub.status.idle": "2021-07-14T19:52:46.675270Z",
     "shell.execute_reply": "2021-07-14T19:52:46.674201Z",
     "shell.execute_reply.started": "2021-07-14T19:51:01.690446Z"
    }
   },
   "outputs": [
    {
     "name": "stdout",
     "output_type": "stream",
     "text": [
      "Computing the msd similarity matrix...\n",
      "Done computing similarity matrix.\n",
      "Computing the msd similarity matrix...\n",
      "Done computing similarity matrix.\n",
      "Computing the msd similarity matrix...\n",
      "Done computing similarity matrix.\n",
      "Computing the msd similarity matrix...\n",
      "Done computing similarity matrix.\n",
      "Computing the msd similarity matrix...\n",
      "Done computing similarity matrix.\n",
      "Computing the msd similarity matrix...\n",
      "Done computing similarity matrix.\n"
     ]
    },
    {
     "data": {
      "text/html": [
       "<div>\n",
       "<style scoped>\n",
       "    .dataframe tbody tr th:only-of-type {\n",
       "        vertical-align: middle;\n",
       "    }\n",
       "\n",
       "    .dataframe tbody tr th {\n",
       "        vertical-align: top;\n",
       "    }\n",
       "\n",
       "    .dataframe thead th {\n",
       "        text-align: right;\n",
       "    }\n",
       "</style>\n",
       "<table border=\"1\" class=\"dataframe\">\n",
       "  <thead>\n",
       "    <tr style=\"text-align: right;\">\n",
       "      <th></th>\n",
       "      <th>test_rmse</th>\n",
       "      <th>fit_time</th>\n",
       "      <th>test_time</th>\n",
       "    </tr>\n",
       "    <tr>\n",
       "      <th>Algorithm</th>\n",
       "      <th></th>\n",
       "      <th></th>\n",
       "      <th></th>\n",
       "    </tr>\n",
       "  </thead>\n",
       "  <tbody>\n",
       "    <tr>\n",
       "      <th>SVDpp</th>\n",
       "      <td>0.878556</td>\n",
       "      <td>17.642252</td>\n",
       "      <td>0.727897</td>\n",
       "    </tr>\n",
       "    <tr>\n",
       "      <th>SVD</th>\n",
       "      <td>0.887191</td>\n",
       "      <td>3.185110</td>\n",
       "      <td>0.285398</td>\n",
       "    </tr>\n",
       "    <tr>\n",
       "      <th>CoClustering</th>\n",
       "      <td>0.972972</td>\n",
       "      <td>1.678862</td>\n",
       "      <td>0.116874</td>\n",
       "    </tr>\n",
       "    <tr>\n",
       "      <th>NMF</th>\n",
       "      <td>0.978862</td>\n",
       "      <td>3.632956</td>\n",
       "      <td>0.126934</td>\n",
       "    </tr>\n",
       "    <tr>\n",
       "      <th>KNNWithMeans</th>\n",
       "      <td>1.019516</td>\n",
       "      <td>0.145104</td>\n",
       "      <td>0.483214</td>\n",
       "    </tr>\n",
       "    <tr>\n",
       "      <th>KNNBasic</th>\n",
       "      <td>1.118027</td>\n",
       "      <td>0.125420</td>\n",
       "      <td>0.432924</td>\n",
       "    </tr>\n",
       "    <tr>\n",
       "      <th>SlopeOne</th>\n",
       "      <td>1.157686</td>\n",
       "      <td>0.325479</td>\n",
       "      <td>0.479392</td>\n",
       "    </tr>\n",
       "  </tbody>\n",
       "</table>\n",
       "</div>"
      ],
      "text/plain": [
       "              test_rmse   fit_time  test_time\n",
       "Algorithm                                    \n",
       "SVDpp          0.878556  17.642252   0.727897\n",
       "SVD            0.887191   3.185110   0.285398\n",
       "CoClustering   0.972972   1.678862   0.116874\n",
       "NMF            0.978862   3.632956   0.126934\n",
       "KNNWithMeans   1.019516   0.145104   0.483214\n",
       "KNNBasic       1.118027   0.125420   0.432924\n",
       "SlopeOne       1.157686   0.325479   0.479392"
      ]
     },
     "execution_count": 28,
     "metadata": {},
     "output_type": "execute_result"
    }
   ],
   "source": [
    "models=[SVD(), SVDpp(), SlopeOne(), NMF(), KNNBasic(), KNNWithMeans(), CoClustering()]\n",
    "compare_50K=Compare_models(df_new,models,50000)\n",
    "compare_50K"
   ]
  },
  {
   "cell_type": "markdown",
   "metadata": {},
   "source": [
    "As we can see, the SVD and SVDpp models perform the best when minimizing the rmse. These models have really high fit times which could cause problems when attempting to run on the entire dataframe."
   ]
  },
  {
   "cell_type": "code",
   "execution_count": 31,
   "metadata": {
    "execution": {
     "iopub.execute_input": "2021-07-14T19:52:46.677003Z",
     "iopub.status.busy": "2021-07-14T19:52:46.676662Z",
     "iopub.status.idle": "2021-07-14T19:52:46.694071Z",
     "shell.execute_reply": "2021-07-14T19:52:46.692873Z",
     "shell.execute_reply.started": "2021-07-14T19:52:46.676963Z"
    }
   },
   "outputs": [
    {
     "data": {
      "text/plain": [
       "Algorithm\n",
       "SVDpp           16.139201\n",
       "SVD              3.079003\n",
       "CoClustering     1.747202\n",
       "NMF              3.680413\n",
       "KNNWithMeans     0.640581\n",
       "KNNBasic         0.624245\n",
       "SlopeOne         0.931788\n",
       "dtype: float64"
      ]
     },
     "execution_count": 31,
     "metadata": {},
     "output_type": "execute_result"
    }
   ],
   "source": [
    "(pd.DataFrame(compare_50K)['fit_time']+pd.DataFrame(compare_50K)['test_time'])*pd.DataFrame(compare_50K)['test_rmse']"
   ]
  },
  {
   "cell_type": "markdown",
   "metadata": {},
   "source": [
    "The KNN based approaches have the best performance when taking into account the time and the rmse, while the SlopeOne method also performs well using this metric. The SVD model does not do well on this metric, but the fit time is considerably lower than SVDpp while also having the best RMSE out of the rest of the models."
   ]
  },
  {
   "cell_type": "code",
   "execution_count": 32,
   "metadata": {
    "execution": {
     "iopub.execute_input": "2021-07-14T19:52:47.775728Z",
     "iopub.status.busy": "2021-07-14T19:52:47.775132Z",
     "iopub.status.idle": "2021-07-14T20:15:36.773457Z",
     "shell.execute_reply": "2021-07-14T20:15:36.772557Z",
     "shell.execute_reply.started": "2021-07-14T19:52:47.775683Z"
    }
   },
   "outputs": [
    {
     "name": "stdout",
     "output_type": "stream",
     "text": [
      "Computing the msd similarity matrix...\n",
      "Done computing similarity matrix.\n",
      "Computing the msd similarity matrix...\n",
      "Done computing similarity matrix.\n",
      "Computing the msd similarity matrix...\n",
      "Done computing similarity matrix.\n",
      "Computing the msd similarity matrix...\n",
      "Done computing similarity matrix.\n",
      "Computing the msd similarity matrix...\n",
      "Done computing similarity matrix.\n",
      "Computing the msd similarity matrix...\n",
      "Done computing similarity matrix.\n"
     ]
    },
    {
     "data": {
      "text/html": [
       "<div>\n",
       "<style scoped>\n",
       "    .dataframe tbody tr th:only-of-type {\n",
       "        vertical-align: middle;\n",
       "    }\n",
       "\n",
       "    .dataframe tbody tr th {\n",
       "        vertical-align: top;\n",
       "    }\n",
       "\n",
       "    .dataframe thead th {\n",
       "        text-align: right;\n",
       "    }\n",
       "</style>\n",
       "<table border=\"1\" class=\"dataframe\">\n",
       "  <thead>\n",
       "    <tr style=\"text-align: right;\">\n",
       "      <th></th>\n",
       "      <th>test_rmse</th>\n",
       "      <th>fit_time</th>\n",
       "      <th>test_time</th>\n",
       "    </tr>\n",
       "    <tr>\n",
       "      <th>Algorithm</th>\n",
       "      <th></th>\n",
       "      <th></th>\n",
       "      <th></th>\n",
       "    </tr>\n",
       "  </thead>\n",
       "  <tbody>\n",
       "    <tr>\n",
       "      <th>SVD</th>\n",
       "      <td>0.791965</td>\n",
       "      <td>38.514202</td>\n",
       "      <td>2.729871</td>\n",
       "    </tr>\n",
       "    <tr>\n",
       "      <th>KNNWithMeans</th>\n",
       "      <td>0.810018</td>\n",
       "      <td>7.732693</td>\n",
       "      <td>81.783837</td>\n",
       "    </tr>\n",
       "    <tr>\n",
       "      <th>SlopeOne</th>\n",
       "      <td>0.818514</td>\n",
       "      <td>16.077581</td>\n",
       "      <td>108.419135</td>\n",
       "    </tr>\n",
       "    <tr>\n",
       "      <th>KNNBasic</th>\n",
       "      <td>0.844074</td>\n",
       "      <td>7.487565</td>\n",
       "      <td>77.077906</td>\n",
       "    </tr>\n",
       "  </tbody>\n",
       "</table>\n",
       "</div>"
      ],
      "text/plain": [
       "              test_rmse   fit_time   test_time\n",
       "Algorithm                                     \n",
       "SVD            0.791965  38.514202    2.729871\n",
       "KNNWithMeans   0.810018   7.732693   81.783837\n",
       "SlopeOne       0.818514  16.077581  108.419135\n",
       "KNNBasic       0.844074   7.487565   77.077906"
      ]
     },
     "execution_count": 32,
     "metadata": {},
     "output_type": "execute_result"
    }
   ],
   "source": [
    "# Top 4 model\n",
    "models=[SVD(), SlopeOne(),KNNBasic(),KNNWithMeans()]\n",
    "compare_top=Compare_models(df_new,models,-1)\n",
    "compare_top"
   ]
  },
  {
   "cell_type": "code",
   "execution_count": 34,
   "metadata": {},
   "outputs": [
    {
     "data": {
      "text/plain": [
       "Algorithm\n",
       "SVD              32.663846\n",
       "KNNWithMeans     72.509997\n",
       "SlopeOne        101.902320\n",
       "KNNBasic         71.379547\n",
       "dtype: float64"
      ]
     },
     "execution_count": 34,
     "metadata": {},
     "output_type": "execute_result"
    }
   ],
   "source": [
    "(pd.DataFrame(compare_top)['fit_time']+pd.DataFrame(compare_top)['test_time'])*pd.DataFrame(compare_top)['test_rmse']"
   ]
  },
  {
   "cell_type": "markdown",
   "metadata": {},
   "source": [
    "When using over 750000 rows it seems that the SVD model has the edge in both rmse and total time."
   ]
  },
  {
   "cell_type": "markdown",
   "metadata": {},
   "source": [
    "# Making submission"
   ]
  },
  {
   "cell_type": "code",
   "execution_count": 35,
   "metadata": {
    "execution": {
     "iopub.execute_input": "2021-07-14T20:15:36.775563Z",
     "iopub.status.busy": "2021-07-14T20:15:36.774984Z",
     "iopub.status.idle": "2021-07-14T20:16:14.922350Z",
     "shell.execute_reply": "2021-07-14T20:16:14.921147Z",
     "shell.execute_reply.started": "2021-07-14T20:15:36.775527Z"
    }
   },
   "outputs": [],
   "source": [
    "def Make_prediction(model,data,test):\n",
    "    data = Dataset.load_from_df(data[['userId', 'movieId', 'rating']], reader).build_full_trainset()\n",
    "    model.fit(data)\n",
    "    prediction=[]\n",
    "    for _,row in test.iterrows():\n",
    "        prediction.append(model.predict(row[0],row[1]).est)\n",
    "    Ident=[]\n",
    "    for _,row in test.iterrows():\n",
    "        Ident.append(str(row[0])+'_'+str(row[1])) \n",
    "    submission=pd.DataFrame([])\n",
    "    submission['Id']=Ident\n",
    "    submission['rating']=prediction\n",
    "    return model,submission"
   ]
  },
  {
   "cell_type": "code",
   "execution_count": null,
   "metadata": {},
   "outputs": [],
   "source": [
    "svd=SVD()\n",
    "model,submission=Make_prediction(svd,df_train,df_test)"
   ]
  },
  {
   "cell_type": "code",
   "execution_count": 28,
   "metadata": {
    "execution": {
     "iopub.execute_input": "2021-07-14T20:49:22.977518Z",
     "iopub.status.busy": "2021-07-14T20:49:22.977247Z",
     "iopub.status.idle": "2021-07-14T20:49:22.991513Z",
     "shell.execute_reply": "2021-07-14T20:49:22.990838Z",
     "shell.execute_reply.started": "2021-07-14T20:49:22.977493Z"
    }
   },
   "outputs": [
    {
     "data": {
      "text/html": [
       "<div>\n",
       "<style scoped>\n",
       "    .dataframe tbody tr th:only-of-type {\n",
       "        vertical-align: middle;\n",
       "    }\n",
       "\n",
       "    .dataframe tbody tr th {\n",
       "        vertical-align: top;\n",
       "    }\n",
       "\n",
       "    .dataframe thead th {\n",
       "        text-align: right;\n",
       "    }\n",
       "</style>\n",
       "<table border=\"1\" class=\"dataframe\">\n",
       "  <thead>\n",
       "    <tr style=\"text-align: right;\">\n",
       "      <th></th>\n",
       "      <th>Id</th>\n",
       "      <th>rating</th>\n",
       "    </tr>\n",
       "  </thead>\n",
       "  <tbody>\n",
       "    <tr>\n",
       "      <th>0</th>\n",
       "      <td>1_2011</td>\n",
       "      <td>3.136505</td>\n",
       "    </tr>\n",
       "    <tr>\n",
       "      <th>1</th>\n",
       "      <td>1_4144</td>\n",
       "      <td>4.367734</td>\n",
       "    </tr>\n",
       "    <tr>\n",
       "      <th>2</th>\n",
       "      <td>1_5767</td>\n",
       "      <td>3.539594</td>\n",
       "    </tr>\n",
       "    <tr>\n",
       "      <th>3</th>\n",
       "      <td>1_6711</td>\n",
       "      <td>4.217351</td>\n",
       "    </tr>\n",
       "    <tr>\n",
       "      <th>4</th>\n",
       "      <td>1_7318</td>\n",
       "      <td>2.876508</td>\n",
       "    </tr>\n",
       "    <tr>\n",
       "      <th>...</th>\n",
       "      <td>...</td>\n",
       "      <td>...</td>\n",
       "    </tr>\n",
       "    <tr>\n",
       "      <th>5000014</th>\n",
       "      <td>162541_4079</td>\n",
       "      <td>3.324737</td>\n",
       "    </tr>\n",
       "    <tr>\n",
       "      <th>5000015</th>\n",
       "      <td>162541_4467</td>\n",
       "      <td>3.971011</td>\n",
       "    </tr>\n",
       "    <tr>\n",
       "      <th>5000016</th>\n",
       "      <td>162541_4980</td>\n",
       "      <td>2.789832</td>\n",
       "    </tr>\n",
       "    <tr>\n",
       "      <th>5000017</th>\n",
       "      <td>162541_5689</td>\n",
       "      <td>2.951968</td>\n",
       "    </tr>\n",
       "    <tr>\n",
       "      <th>5000018</th>\n",
       "      <td>162541_7153</td>\n",
       "      <td>4.294653</td>\n",
       "    </tr>\n",
       "  </tbody>\n",
       "</table>\n",
       "<p>5000019 rows × 2 columns</p>\n",
       "</div>"
      ],
      "text/plain": [
       "                  Id    rating\n",
       "0             1_2011  3.136505\n",
       "1             1_4144  4.367734\n",
       "2             1_5767  3.539594\n",
       "3             1_6711  4.217351\n",
       "4             1_7318  2.876508\n",
       "...              ...       ...\n",
       "5000014  162541_4079  3.324737\n",
       "5000015  162541_4467  3.971011\n",
       "5000016  162541_4980  2.789832\n",
       "5000017  162541_5689  2.951968\n",
       "5000018  162541_7153  4.294653\n",
       "\n",
       "[5000019 rows x 2 columns]"
      ]
     },
     "execution_count": 28,
     "metadata": {},
     "output_type": "execute_result"
    }
   ],
   "source": [
    "submission"
   ]
  },
  {
   "cell_type": "code",
   "execution_count": 30,
   "metadata": {
    "execution": {
     "iopub.execute_input": "2021-07-14T20:50:06.221573Z",
     "iopub.status.busy": "2021-07-14T20:50:06.221146Z",
     "iopub.status.idle": "2021-07-14T20:50:25.315256Z",
     "shell.execute_reply": "2021-07-14T20:50:25.314443Z",
     "shell.execute_reply.started": "2021-07-14T20:50:06.221527Z"
    }
   },
   "outputs": [],
   "source": [
    "#submission.to_csv('SVD.csv', index = False)"
   ]
  }
 ],
 "metadata": {
  "kernelspec": {
   "display_name": "Python 3",
   "language": "python",
   "name": "python3"
  },
  "language_info": {
   "codemirror_mode": {
    "name": "ipython",
    "version": 3
   },
   "file_extension": ".py",
   "mimetype": "text/x-python",
   "name": "python",
   "nbconvert_exporter": "python",
   "pygments_lexer": "ipython3",
   "version": "3.7.10"
  }
 },
 "nbformat": 4,
 "nbformat_minor": 4
}
